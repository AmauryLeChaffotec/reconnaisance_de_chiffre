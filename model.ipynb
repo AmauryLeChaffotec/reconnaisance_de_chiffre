{
 "cells": [
  {
   "cell_type": "code",
   "execution_count": 1,
   "id": "829dcd6e",
   "metadata": {},
   "outputs": [
    {
     "name": "stderr",
     "output_type": "stream",
     "text": [
      "2022-09-28 09:46:30.419220: W tensorflow/stream_executor/platform/default/dso_loader.cc:64] Could not load dynamic library 'libcudart.so.11.0'; dlerror: libcudart.so.11.0: cannot open shared object file: No such file or directory\n",
      "2022-09-28 09:46:30.419249: I tensorflow/stream_executor/cuda/cudart_stub.cc:29] Ignore above cudart dlerror if you do not have a GPU set up on your machine.\n"
     ]
    }
   ],
   "source": [
    "import numpy as np\n",
    "from tensorflow import keras\n",
    "from tensorflow.keras import layers\n",
    "from keras.models import load_model\n"
   ]
  },
  {
   "cell_type": "code",
   "execution_count": 2,
   "id": "004eed7a",
   "metadata": {},
   "outputs": [],
   "source": [
    "# Model / data parameters\n",
    "num_classes = 10\n",
    "input_shape = (28, 28, 1)"
   ]
  },
  {
   "cell_type": "markdown",
   "id": "d5a5cf0e",
   "metadata": {},
   "source": [
    "# load data"
   ]
  },
  {
   "cell_type": "code",
   "execution_count": 3,
   "id": "7a24f93e",
   "metadata": {},
   "outputs": [],
   "source": [
    "# Load the data and split it between train and test sets\n",
    "(x_train, y_train), (x_test, y_test) = keras.datasets.mnist.load_data()"
   ]
  },
  {
   "cell_type": "code",
   "execution_count": 4,
   "id": "e3d2b639",
   "metadata": {},
   "outputs": [
    {
     "data": {
      "text/plain": [
       "(28, 28)"
      ]
     },
     "execution_count": 4,
     "metadata": {},
     "output_type": "execute_result"
    }
   ],
   "source": [
    "x_train[0].shape"
   ]
  },
  {
   "cell_type": "code",
   "execution_count": 5,
   "id": "a172750e",
   "metadata": {},
   "outputs": [
    {
     "name": "stdout",
     "output_type": "stream",
     "text": [
      "(28, 28, 1)\n",
      "x_train shape: (60000, 28, 28, 1)\n",
      "60000 train samples\n",
      "10000 test samples\n"
     ]
    }
   ],
   "source": [
    "# Scale images to the [0, 1] range\n",
    "x_train = x_train.astype(\"float32\") / 255\n",
    "x_test = x_test.astype(\"float32\") / 255\n",
    "# Make sure images have shape (28, 28, 1)\n",
    "x_train = np.expand_dims(x_train, -1)\n",
    "print(x_train[0].shape)\n",
    "x_test = np.expand_dims(x_test, -1)\n",
    "print(\"x_train shape:\", x_train.shape)\n",
    "print(x_train.shape[0], \"train samples\")\n",
    "print(x_test.shape[0], \"test samples\")"
   ]
  },
  {
   "cell_type": "code",
   "execution_count": 6,
   "id": "542d1ea5",
   "metadata": {},
   "outputs": [],
   "source": [
    "# convert class vectors to binary class matrices\n",
    "y_train = keras.utils.to_categorical(y_train, num_classes)\n",
    "y_test = keras.utils.to_categorical(y_test, num_classes)"
   ]
  },
  {
   "cell_type": "code",
   "execution_count": 7,
   "id": "3a77bbc4",
   "metadata": {},
   "outputs": [
    {
     "data": {
      "text/plain": [
       "array([[0., 0., 0., ..., 0., 0., 0.],\n",
       "       [1., 0., 0., ..., 0., 0., 0.],\n",
       "       [0., 0., 0., ..., 0., 0., 0.],\n",
       "       ...,\n",
       "       [0., 0., 0., ..., 0., 0., 0.],\n",
       "       [0., 0., 0., ..., 0., 0., 0.],\n",
       "       [0., 0., 0., ..., 0., 1., 0.]], dtype=float32)"
      ]
     },
     "execution_count": 7,
     "metadata": {},
     "output_type": "execute_result"
    }
   ],
   "source": [
    "y_train"
   ]
  },
  {
   "cell_type": "markdown",
   "id": "d67495a2",
   "metadata": {},
   "source": [
    "# model"
   ]
  },
  {
   "cell_type": "code",
   "execution_count": 8,
   "id": "139a3739",
   "metadata": {},
   "outputs": [
    {
     "name": "stdout",
     "output_type": "stream",
     "text": [
      "Model: \"sequential\"\n",
      "_________________________________________________________________\n",
      " Layer (type)                Output Shape              Param #   \n",
      "=================================================================\n",
      " conv2d (Conv2D)             (None, 26, 26, 32)        320       \n",
      "                                                                 \n",
      " max_pooling2d (MaxPooling2D  (None, 13, 13, 32)       0         \n",
      " )                                                               \n",
      "                                                                 \n",
      " conv2d_1 (Conv2D)           (None, 11, 11, 64)        18496     \n",
      "                                                                 \n",
      " max_pooling2d_1 (MaxPooling  (None, 5, 5, 64)         0         \n",
      " 2D)                                                             \n",
      "                                                                 \n",
      " flatten (Flatten)           (None, 1600)              0         \n"
     ]
    },
    {
     "name": "stderr",
     "output_type": "stream",
     "text": [
      "2022-09-28 09:46:33.865764: W tensorflow/stream_executor/platform/default/dso_loader.cc:64] Could not load dynamic library 'libcuda.so.1'; dlerror: libcuda.so.1: cannot open shared object file: No such file or directory\n",
      "2022-09-28 09:46:33.865879: W tensorflow/stream_executor/cuda/cuda_driver.cc:269] failed call to cuInit: UNKNOWN ERROR (303)\n",
      "2022-09-28 09:46:33.865957: I tensorflow/stream_executor/cuda/cuda_diagnostics.cc:156] kernel driver does not appear to be running on this host (amaurylc-ThinkPad-T460): /proc/driver/nvidia/version does not exist\n",
      "2022-09-28 09:46:33.866530: I tensorflow/core/platform/cpu_feature_guard.cc:151] This TensorFlow binary is optimized with oneAPI Deep Neural Network Library (oneDNN) to use the following CPU instructions in performance-critical operations:  AVX2 FMA\n",
      "To enable them in other operations, rebuild TensorFlow with the appropriate compiler flags.\n"
     ]
    },
    {
     "name": "stdout",
     "output_type": "stream",
     "text": [
      "                                                                 \n",
      " dropout (Dropout)           (None, 1600)              0         \n",
      "                                                                 \n",
      " dense (Dense)               (None, 10)                16010     \n",
      "                                                                 \n",
      "=================================================================\n",
      "Total params: 34,826\n",
      "Trainable params: 34,826\n",
      "Non-trainable params: 0\n",
      "_________________________________________________________________\n"
     ]
    }
   ],
   "source": [
    "model = keras.Sequential(\n",
    "    [\n",
    "        keras.Input(shape=input_shape),\n",
    "        layers.Conv2D(32, kernel_size=(3, 3), activation=\"relu\"),\n",
    "        layers.MaxPooling2D(pool_size=(2, 2)),\n",
    "        layers.Conv2D(64, kernel_size=(3, 3), activation=\"relu\"),\n",
    "        layers.MaxPooling2D(pool_size=(2, 2)),\n",
    "        layers.Flatten(),\n",
    "        layers.Dropout(0.5),\n",
    "        layers.Dense(num_classes, activation=\"softmax\"),\n",
    "    ]\n",
    ")\n",
    "\n",
    "model.summary()"
   ]
  },
  {
   "cell_type": "code",
   "execution_count": 9,
   "id": "af1dab69",
   "metadata": {},
   "outputs": [
    {
     "name": "stdout",
     "output_type": "stream",
     "text": [
      "Epoch 1/30\n",
      "422/422 [==============================] - 29s 66ms/step - loss: 0.3665 - accuracy: 0.8900 - val_loss: 0.0948 - val_accuracy: 0.9743\n",
      "Epoch 2/30\n",
      "422/422 [==============================] - 27s 63ms/step - loss: 0.1122 - accuracy: 0.9656 - val_loss: 0.0587 - val_accuracy: 0.9847\n",
      "Epoch 3/30\n",
      "422/422 [==============================] - 27s 64ms/step - loss: 0.0842 - accuracy: 0.9741 - val_loss: 0.0489 - val_accuracy: 0.9872\n",
      "Epoch 4/30\n",
      "422/422 [==============================] - 27s 65ms/step - loss: 0.0715 - accuracy: 0.9786 - val_loss: 0.0421 - val_accuracy: 0.9893\n",
      "Epoch 5/30\n",
      "422/422 [==============================] - 27s 65ms/step - loss: 0.0624 - accuracy: 0.9814 - val_loss: 0.0406 - val_accuracy: 0.9880\n",
      "Epoch 6/30\n",
      "422/422 [==============================] - 28s 65ms/step - loss: 0.0583 - accuracy: 0.9822 - val_loss: 0.0373 - val_accuracy: 0.9897\n",
      "Epoch 7/30\n",
      "422/422 [==============================] - 28s 66ms/step - loss: 0.0529 - accuracy: 0.9833 - val_loss: 0.0364 - val_accuracy: 0.9907\n",
      "Epoch 8/30\n",
      "422/422 [==============================] - 28s 65ms/step - loss: 0.0489 - accuracy: 0.9850 - val_loss: 0.0369 - val_accuracy: 0.9897\n",
      "Epoch 9/30\n",
      "422/422 [==============================] - 27s 65ms/step - loss: 0.0468 - accuracy: 0.9849 - val_loss: 0.0341 - val_accuracy: 0.9913\n",
      "Epoch 10/30\n",
      "422/422 [==============================] - 27s 63ms/step - loss: 0.0453 - accuracy: 0.9857 - val_loss: 0.0319 - val_accuracy: 0.9907\n",
      "Epoch 11/30\n",
      "422/422 [==============================] - 27s 65ms/step - loss: 0.0402 - accuracy: 0.9870 - val_loss: 0.0326 - val_accuracy: 0.9908\n",
      "Epoch 12/30\n",
      "422/422 [==============================] - 27s 65ms/step - loss: 0.0394 - accuracy: 0.9874 - val_loss: 0.0353 - val_accuracy: 0.9893\n",
      "Epoch 13/30\n",
      "422/422 [==============================] - 29s 69ms/step - loss: 0.0355 - accuracy: 0.9882 - val_loss: 0.0300 - val_accuracy: 0.9918\n",
      "Epoch 14/30\n",
      "422/422 [==============================] - 30s 70ms/step - loss: 0.0359 - accuracy: 0.9887 - val_loss: 0.0291 - val_accuracy: 0.9915\n",
      "Epoch 15/30\n",
      "422/422 [==============================] - 37s 88ms/step - loss: 0.0341 - accuracy: 0.9893 - val_loss: 0.0303 - val_accuracy: 0.9922\n",
      "Epoch 16/30\n",
      "422/422 [==============================] - 29s 69ms/step - loss: 0.0306 - accuracy: 0.9901 - val_loss: 0.0308 - val_accuracy: 0.9915\n",
      "Epoch 17/30\n",
      "422/422 [==============================] - 29s 70ms/step - loss: 0.0301 - accuracy: 0.9907 - val_loss: 0.0295 - val_accuracy: 0.9925\n",
      "Epoch 18/30\n",
      "422/422 [==============================] - 27s 63ms/step - loss: 0.0295 - accuracy: 0.9903 - val_loss: 0.0342 - val_accuracy: 0.9905\n",
      "Epoch 19/30\n",
      "422/422 [==============================] - 27s 64ms/step - loss: 0.0291 - accuracy: 0.9906 - val_loss: 0.0309 - val_accuracy: 0.9920\n",
      "Epoch 20/30\n",
      "422/422 [==============================] - 31s 73ms/step - loss: 0.0268 - accuracy: 0.9906 - val_loss: 0.0294 - val_accuracy: 0.9918\n",
      "Epoch 21/30\n",
      "422/422 [==============================] - 35s 84ms/step - loss: 0.0261 - accuracy: 0.9911 - val_loss: 0.0326 - val_accuracy: 0.9922\n",
      "Epoch 22/30\n",
      "422/422 [==============================] - 36s 86ms/step - loss: 0.0256 - accuracy: 0.9915 - val_loss: 0.0305 - val_accuracy: 0.9922\n",
      "Epoch 23/30\n",
      "422/422 [==============================] - 29s 69ms/step - loss: 0.0255 - accuracy: 0.9913 - val_loss: 0.0328 - val_accuracy: 0.9920\n",
      "Epoch 24/30\n",
      "422/422 [==============================] - 29s 69ms/step - loss: 0.0238 - accuracy: 0.9919 - val_loss: 0.0320 - val_accuracy: 0.9917\n",
      "Epoch 25/30\n",
      "422/422 [==============================] - 27s 64ms/step - loss: 0.0243 - accuracy: 0.9922 - val_loss: 0.0285 - val_accuracy: 0.9927\n",
      "Epoch 26/30\n",
      "422/422 [==============================] - 27s 63ms/step - loss: 0.0230 - accuracy: 0.9926 - val_loss: 0.0289 - val_accuracy: 0.9925\n",
      "Epoch 27/30\n",
      "422/422 [==============================] - 27s 64ms/step - loss: 0.0208 - accuracy: 0.9926 - val_loss: 0.0293 - val_accuracy: 0.9923\n",
      "Epoch 28/30\n",
      "422/422 [==============================] - 28s 65ms/step - loss: 0.0204 - accuracy: 0.9932 - val_loss: 0.0306 - val_accuracy: 0.9922\n",
      "Epoch 29/30\n",
      "422/422 [==============================] - 31s 73ms/step - loss: 0.0216 - accuracy: 0.9926 - val_loss: 0.0313 - val_accuracy: 0.9920\n",
      "Epoch 30/30\n",
      "422/422 [==============================] - 29s 68ms/step - loss: 0.0198 - accuracy: 0.9934 - val_loss: 0.0327 - val_accuracy: 0.9925\n"
     ]
    },
    {
     "data": {
      "text/plain": [
       "<keras.callbacks.History at 0x7f5f7a9144c0>"
      ]
     },
     "execution_count": 9,
     "metadata": {},
     "output_type": "execute_result"
    }
   ],
   "source": [
    "batch_size = 128\n",
    "epochs = 30\n",
    "\n",
    "model.compile(loss=\"categorical_crossentropy\", optimizer=\"adam\", metrics=[\"accuracy\"])\n",
    "model.fit(x_train, y_train, batch_size=batch_size, epochs=epochs, validation_split=0.1)\n"
   ]
  },
  {
   "cell_type": "code",
   "execution_count": 10,
   "id": "eeeed67a",
   "metadata": {},
   "outputs": [
    {
     "name": "stdout",
     "output_type": "stream",
     "text": [
      "Test loss: 0.0210556760430336\n",
      "Test accuracy: 0.9926999807357788\n"
     ]
    }
   ],
   "source": [
    "score = model.evaluate(x_test, y_test, verbose=0)\n",
    "print(\"Test loss:\", score[0])\n",
    "print(\"Test accuracy:\", score[1])"
   ]
  },
  {
   "cell_type": "code",
   "execution_count": 11,
   "id": "9df9916c",
   "metadata": {},
   "outputs": [],
   "source": [
    "model.save('chiffre.h5')  # creates a HDF5 file 'my_model.h5'\n",
    "#del model  # deletes the existing model\n",
    "# returns a compiled model\n",
    "# identical to the previous one\n",
    "#model = load_model('my_model.h5')"
   ]
  },
  {
   "cell_type": "code",
   "execution_count": null,
   "id": "dd382770",
   "metadata": {},
   "outputs": [],
   "source": []
  }
 ],
 "metadata": {
  "kernelspec": {
   "display_name": "Python 3 (ipykernel)",
   "language": "python",
   "name": "python3"
  },
  "language_info": {
   "codemirror_mode": {
    "name": "ipython",
    "version": 3
   },
   "file_extension": ".py",
   "mimetype": "text/x-python",
   "name": "python",
   "nbconvert_exporter": "python",
   "pygments_lexer": "ipython3",
   "version": "3.9.7"
  }
 },
 "nbformat": 4,
 "nbformat_minor": 5
}
